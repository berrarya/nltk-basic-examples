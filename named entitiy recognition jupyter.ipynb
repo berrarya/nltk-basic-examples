{
 "cells": [
  {
   "cell_type": "code",
   "execution_count": 1,
   "id": "e8e6cd0e-7cbb-4129-8d3d-deaae00a2dc2",
   "metadata": {},
   "outputs": [
    {
     "name": "stderr",
     "output_type": "stream",
     "text": [
      "[nltk_data] Downloading package punkt_tab to\n",
      "[nltk_data]     C:\\Users\\berra\\AppData\\Roaming\\nltk_data...\n",
      "[nltk_data]   Unzipping tokenizers\\punkt_tab.zip.\n",
      "[nltk_data] Downloading package averaged_perceptron_tagger_eng to\n",
      "[nltk_data]     C:\\Users\\berra\\AppData\\Roaming\\nltk_data...\n",
      "[nltk_data]   Unzipping taggers\\averaged_perceptron_tagger_eng.zip.\n",
      "[nltk_data] Downloading package maxent_ne_chunker_tab to\n",
      "[nltk_data]     C:\\Users\\berra\\AppData\\Roaming\\nltk_data...\n",
      "[nltk_data]   Unzipping chunkers\\maxent_ne_chunker_tab.zip.\n",
      "[nltk_data] Downloading package words to\n",
      "[nltk_data]     C:\\Users\\berra\\AppData\\Roaming\\nltk_data...\n",
      "[nltk_data]   Unzipping corpora\\words.zip.\n"
     ]
    },
    {
     "data": {
      "text/plain": [
       "True"
      ]
     },
     "execution_count": 1,
     "metadata": {},
     "output_type": "execute_result"
    }
   ],
   "source": [
    "import nltk\n",
    "nltk.download('punkt_tab')\n",
    "nltk.download('averaged_perceptron_tagger_eng')\n",
    "nltk.download('maxent_ne_chunker_tab')\n",
    "nltk.download('words')"
   ]
  },
  {
   "cell_type": "code",
   "execution_count": 14,
   "id": "1fba544d-c551-4883-bc8b-8e73c8bf79b3",
   "metadata": {},
   "outputs": [
    {
     "name": "stderr",
     "output_type": "stream",
     "text": [
      "[nltk_data] Downloading package averaged_perceptron_tagger to\n",
      "[nltk_data]     C:\\Users\\berra\\AppData\\Roaming\\nltk_data...\n",
      "[nltk_data]   Package averaged_perceptron_tagger is already up-to-\n",
      "[nltk_data]       date!\n",
      "[nltk_data] Downloading package maxent_ne_chunker to\n",
      "[nltk_data]     C:\\Users\\berra\\AppData\\Roaming\\nltk_data...\n",
      "[nltk_data]   Unzipping chunkers\\maxent_ne_chunker.zip.\n"
     ]
    },
    {
     "data": {
      "text/plain": [
       "True"
      ]
     },
     "execution_count": 14,
     "metadata": {},
     "output_type": "execute_result"
    }
   ],
   "source": [
    "import nltk\n",
    "nltk.download('averaged_perceptron_tagger')\n",
    "nltk.download('maxent_ne_chunker')"
   ]
  },
  {
   "cell_type": "code",
   "execution_count": 15,
   "id": "93b9c932-15b3-4815-b552-bd052867f7dc",
   "metadata": {},
   "outputs": [],
   "source": [
    "text = \"Steven Paul Jobs is one of the co-founders of Apple Computer, Inc. He served as CEO of the newly named Apple Inc. until 5 weeks before his death. He is considered a pioneer in the computer industry. He also founded and chaired Next Computer and Pixar Animation Studios. He was diagnosed with pancreatic cancer in 2004 and died 7 years later at the age of 56.\""
   ]
  },
  {
   "cell_type": "code",
   "execution_count": 16,
   "id": "d039c9ac-19ef-4507-b405-e0a81fb6f276",
   "metadata": {},
   "outputs": [],
   "source": [
    "tokenized = nltk.word_tokenize(text)"
   ]
  },
  {
   "cell_type": "code",
   "execution_count": 17,
   "id": "28402245-7eda-4d02-8671-abd298bc2e8a",
   "metadata": {},
   "outputs": [],
   "source": [
    "tagged = nltk.pos_tag(tokenized)"
   ]
  },
  {
   "cell_type": "code",
   "execution_count": 18,
   "id": "c149bc64-dcad-40fd-8549-0a4ff9d5d854",
   "metadata": {},
   "outputs": [],
   "source": [
    "named_ent = nltk.ne_chunk(tagged)"
   ]
  },
  {
   "cell_type": "code",
   "execution_count": 19,
   "id": "7e476aa7-f4ce-45df-b536-89a2f8118292",
   "metadata": {},
   "outputs": [
    {
     "ename": "ModuleNotFoundError",
     "evalue": "No module named 'svgling'",
     "output_type": "error",
     "traceback": [
      "\u001b[1;31m---------------------------------------------------------------------------\u001b[0m",
      "\u001b[1;31mModuleNotFoundError\u001b[0m                       Traceback (most recent call last)",
      "File \u001b[1;32m~\\anaconda3\\Lib\\site-packages\\IPython\\core\\formatters.py:347\u001b[0m, in \u001b[0;36mBaseFormatter.__call__\u001b[1;34m(self, obj)\u001b[0m\n\u001b[0;32m    345\u001b[0m     method \u001b[38;5;241m=\u001b[39m get_real_method(obj, \u001b[38;5;28mself\u001b[39m\u001b[38;5;241m.\u001b[39mprint_method)\n\u001b[0;32m    346\u001b[0m     \u001b[38;5;28;01mif\u001b[39;00m method \u001b[38;5;129;01mis\u001b[39;00m \u001b[38;5;129;01mnot\u001b[39;00m \u001b[38;5;28;01mNone\u001b[39;00m:\n\u001b[1;32m--> 347\u001b[0m         \u001b[38;5;28;01mreturn\u001b[39;00m method()\n\u001b[0;32m    348\u001b[0m     \u001b[38;5;28;01mreturn\u001b[39;00m \u001b[38;5;28;01mNone\u001b[39;00m\n\u001b[0;32m    349\u001b[0m \u001b[38;5;28;01melse\u001b[39;00m:\n",
      "File \u001b[1;32m~\\anaconda3\\Lib\\site-packages\\nltk\\tree\\tree.py:782\u001b[0m, in \u001b[0;36mTree._repr_svg_\u001b[1;34m(self)\u001b[0m\n\u001b[0;32m    781\u001b[0m \u001b[38;5;28;01mdef\u001b[39;00m \u001b[38;5;21m_repr_svg_\u001b[39m(\u001b[38;5;28mself\u001b[39m):\n\u001b[1;32m--> 782\u001b[0m     \u001b[38;5;28;01mfrom\u001b[39;00m \u001b[38;5;21;01msvgling\u001b[39;00m \u001b[38;5;28;01mimport\u001b[39;00m draw_tree\n\u001b[0;32m    784\u001b[0m     \u001b[38;5;28;01mreturn\u001b[39;00m draw_tree(\u001b[38;5;28mself\u001b[39m)\u001b[38;5;241m.\u001b[39m_repr_svg_()\n",
      "\u001b[1;31mModuleNotFoundError\u001b[0m: No module named 'svgling'"
     ]
    },
    {
     "data": {
      "text/plain": [
       "Tree('S', [Tree('PERSON', [('Steven', 'NNP')]), Tree('PERSON', [('Paul', 'NNP'), ('Jobs', 'NNP')]), ('is', 'VBZ'), ('one', 'CD'), ('of', 'IN'), ('the', 'DT'), ('co-founders', 'NNS'), ('of', 'IN'), Tree('PERSON', [('Apple', 'NNP'), ('Computer', 'NNP')]), (',', ','), Tree('PERSON', [('Inc', 'NNP')]), ('.', '.'), ('He', 'PRP'), ('served', 'VBD'), ('as', 'IN'), Tree('ORGANIZATION', [('CEO', 'NNP')]), ('of', 'IN'), ('the', 'DT'), ('newly', 'RB'), ('named', 'VBN'), Tree('PERSON', [('Apple', 'NNP'), ('Inc.', 'NNP')]), ('until', 'IN'), ('5', 'CD'), ('weeks', 'NNS'), ('before', 'IN'), ('his', 'PRP$'), ('death', 'NN'), ('.', '.'), ('He', 'PRP'), ('is', 'VBZ'), ('considered', 'VBN'), ('a', 'DT'), ('pioneer', 'NN'), ('in', 'IN'), ('the', 'DT'), ('computer', 'NN'), ('industry', 'NN'), ('.', '.'), ('He', 'PRP'), ('also', 'RB'), ('founded', 'VBD'), ('and', 'CC'), ('chaired', 'VBD'), Tree('PERSON', [('Next', 'NNP'), ('Computer', 'NNP')]), ('and', 'CC'), Tree('PERSON', [('Pixar', 'NNP'), ('Animation', 'NNP'), ('Studios', 'NNP')]), ('.', '.'), ('He', 'PRP'), ('was', 'VBD'), ('diagnosed', 'VBN'), ('with', 'IN'), ('pancreatic', 'JJ'), ('cancer', 'NN'), ('in', 'IN'), ('2004', 'CD'), ('and', 'CC'), ('died', 'VBD'), ('7', 'CD'), ('years', 'NNS'), ('later', 'RB'), ('at', 'IN'), ('the', 'DT'), ('age', 'NN'), ('of', 'IN'), ('56', 'CD'), ('.', '.')])"
      ]
     },
     "execution_count": 19,
     "metadata": {},
     "output_type": "execute_result"
    }
   ],
   "source": [
    "named_ent  #belirli hatalar alınıyor ama buna rağmen ağaç şeklinde çıktı veriyor."
   ]
  },
  {
   "cell_type": "code",
   "execution_count": 20,
   "id": "ff72935c-c568-4043-89b7-73022a911369",
   "metadata": {},
   "outputs": [],
   "source": [
    "named_ent.draw()"
   ]
  },
  {
   "cell_type": "code",
   "execution_count": null,
   "id": "a9d33205-0f29-40a9-b931-ae42d972f741",
   "metadata": {},
   "outputs": [],
   "source": []
  }
 ],
 "metadata": {
  "kernelspec": {
   "display_name": "Python 3 (ipykernel)",
   "language": "python",
   "name": "python3"
  },
  "language_info": {
   "codemirror_mode": {
    "name": "ipython",
    "version": 3
   },
   "file_extension": ".py",
   "mimetype": "text/x-python",
   "name": "python",
   "nbconvert_exporter": "python",
   "pygments_lexer": "ipython3",
   "version": "3.12.4"
  }
 },
 "nbformat": 4,
 "nbformat_minor": 5
}
